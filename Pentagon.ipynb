{
 "cells": [
  {
   "cell_type": "code",
   "execution_count": 23,
   "id": "61424ecf",
   "metadata": {},
   "outputs": [],
   "source": [
    "#import the libraries\n",
    "import turtle\n",
    "import math\n",
    "\n",
    "#set the time to draw the diagram faster\n",
    "turtle.speed(10)\n",
    "\n",
    "wn = turtle.Screen()\n",
    "pen = turtle.Turtle()\n",
    "\n",
    "#background color\n",
    "turtle.bgcolor('pink')\n",
    "\n",
    "#fill the color inside the diagram\n",
    "pen.begin_fill()\n",
    "pen.fillcolor('green')\n",
    "\n",
    "pen.right(135)\n",
    "pen.forward(80)\n",
    "\n",
    "pen.left(57)\n",
    "pen.forward(80)\n",
    "\n",
    "pen.left(78)\n",
    "pen.forward(90)\n",
    "\n",
    "pen.left( 77)\n",
    "pen.forward(80)\n",
    "\n",
    "pen.left(63)\n",
    "pen.forward(89)\n",
    "\n",
    "pen.end_fill()\n",
    "\n",
    "#hide the turtle\n",
    "pen.hideturtle()\n"
   ]
  },
  {
   "cell_type": "code",
   "execution_count": null,
   "id": "39a44f43",
   "metadata": {},
   "outputs": [],
   "source": []
  }
 ],
 "metadata": {
  "kernelspec": {
   "display_name": "Python 3",
   "language": "python",
   "name": "python3"
  },
  "language_info": {
   "codemirror_mode": {
    "name": "ipython",
    "version": 3
   },
   "file_extension": ".py",
   "mimetype": "text/x-python",
   "name": "python",
   "nbconvert_exporter": "python",
   "pygments_lexer": "ipython3",
   "version": "3.8.8"
  }
 },
 "nbformat": 4,
 "nbformat_minor": 5
}
